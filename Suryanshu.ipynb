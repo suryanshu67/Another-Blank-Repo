{
  "nbformat": 4,
  "nbformat_minor": 0,
  "metadata": {
    "colab": {
      "provenance": [],
      "authorship_tag": "ABX9TyMZVljd55DHcI0JmBkQx0F9",
      "include_colab_link": true
    },
    "kernelspec": {
      "name": "python3",
      "display_name": "Python 3"
    },
    "language_info": {
      "name": "python"
    }
  },
  "cells": [
    {
      "cell_type": "markdown",
      "metadata": {
        "id": "view-in-github",
        "colab_type": "text"
      },
      "source": [
        "<a href=\"https://colab.research.google.com/github/suryanshu67/Another-Blank-Repo/blob/main/Suryanshu.ipynb\" target=\"_parent\"><img src=\"https://colab.research.google.com/assets/colab-badge.svg\" alt=\"Open In Colab\"/></a>"
      ]
    },
    {
      "cell_type": "code",
      "execution_count": null,
      "metadata": {
        "id": "k6UbsTlwtmBK"
      },
      "outputs": [],
      "source": [
        "l1 = list() # creating an empty list 'l1'\n",
        "print(l1.append([\"animal\",3,4,5,])) # appending another list [\"animal\", 3, 4, 5, ] to it.\n",
        "l2 = l1 # assigned refrence of l1 to l2\n",
        "l1.copy() #creates a shallow copy of the list\n",
        "print(l1)\n",
        "print(l2)\n",
        "a = tuple(l1) # creating a tuple of a from the elements of \"l1\"\n",
        "print(a)\n",
        "for i in l1 and a:\n",
        "  print(i)"
      ]
    },
    {
      "cell_type": "code",
      "execution_count": null,
      "metadata": {
        "id": "4C3LLmMl1rv5",
        "outputId": "36596b57-34d8-4210-d74d-c74134f9b4ca",
        "colab": {
          "base_uri": "https://localhost:8080/"
        }
      },
      "outputs": [
        {
          "output_type": "execute_result",
          "data": {
            "text/plain": [
              "0"
            ]
          },
          "metadata": {},
          "execution_count": 3
        }
      ],
      "source": [
        "l1 = list()\n",
        "l2 = l1.copy()\n",
        "l2.append([\"hlo\",\"hood\"])\n",
        "l1.append([\"good\"])\n",
        "c = l2.count([\"hlo\"]) # counting the number of element persent in the list\n",
        "c"
      ]
    },
    {
      "cell_type": "code",
      "execution_count": null,
      "metadata": {
        "id": "QohtvER111e-"
      },
      "outputs": [],
      "source": [
        "l1 = list()\n",
        "l1.append([\"thasin\"])\n",
        "l1.extend([5,67,7]) # extending the list by appending the list\n",
        "l1\n",
        "l1.index([\"thasin\"])\n",
        "l1"
      ]
    },
    {
      "cell_type": "code",
      "execution_count": null,
      "metadata": {
        "id": "65Y1xLpN3k2n"
      },
      "outputs": [],
      "source": [
        "li = list()\n",
        "li.insert(0,10) # inserting value of 10 at index 0\n",
        "li\n",
        "li.append([4,5,6]) # Appends the list [4, 5, 6] as a single element to the list li.\n",
        "li\n",
        "li.append(187)\n",
        "li.remove(10) # removing the element from the list\n",
        "li.insert(0,20)\n",
        "li\n",
        "li.reverse() # reversing the order of element in the list\n",
        "li"
      ]
    },
    {
      "cell_type": "code",
      "execution_count": null,
      "metadata": {
        "id": "hDwr6fVNMuhD"
      },
      "outputs": [],
      "source": [
        "l4 = [3,4,52,32,34]\n",
        "l4.sort() # sorting the element of list l4 in ascending order\n",
        "l4\n",
        "l5 = [\"hlo\",\"goodmooring\",]\n",
        "l5.sort() # sorting the elment in alphabetical order\n",
        "l5"
      ]
    },
    {
      "cell_type": "markdown",
      "metadata": {
        "id": "cr45drf_NCme"
      },
      "source": [
        "DICTIONARY\n"
      ]
    },
    {
      "cell_type": "code",
      "execution_count": null,
      "metadata": {
        "id": "JUtVyx-BNIrS"
      },
      "outputs": [],
      "source": [
        "names = [\"thasin\",\"hlo\",\"khan\"]\n",
        "height = [123,567,67]\n",
        "for i in zip(names,height): # combining two list with the help of zip function\n",
        "  i\n",
        "\n",
        "a = list(zip(names,height)) # making a list of element\n",
        "a\n",
        "c = dict(zip(names,height)) # making a dictionary of two lists 'names' and 'height'\n",
        "c"
      ]
    },
    {
      "cell_type": "code",
      "source": [
        "import random # using a random module for genrating a random value\n",
        "import matplotlib.pyplot as plt # matplotlib.pyplot is using for potential ploting\n",
        "\n",
        "mapping = dict(zip(range(0,10),range(48,58))) #Creates a dictionary mapping that maps integers 0 to 9 to ASCII values of the characters '0' to '9'\n",
        "\n",
        "single_char = random.randint(0,35) #Generates a random integer between 0 and 35\n",
        "single_char\n"
      ],
      "metadata": {
        "id": "d_By97_KZAwb",
        "outputId": "39951e2e-7169-45ab-a3a2-a27e5e2a41fa",
        "colab": {
          "base_uri": "https://localhost:8080/"
        }
      },
      "execution_count": null,
      "outputs": [
        {
          "output_type": "execute_result",
          "data": {
            "text/plain": [
              "22"
            ]
          },
          "metadata": {},
          "execution_count": 22
        }
      ]
    },
    {
      "cell_type": "code",
      "source": [
        "for i in range(0,26):\n",
        "  mapping[10+i] = chr(65+i)#Extends the mapping dictionary to include integers 10 to 35, mapping them to ASCII values of the uppercase letters 'A' to 'Z'.\n",
        "mapping"
      ],
      "metadata": {
        "id": "d3JbvejncD8K"
      },
      "execution_count": null,
      "outputs": []
    },
    {
      "cell_type": "code",
      "source": [
        "import random\n",
        "s = str() # create an empty string\n",
        "digit = random.randint(0,35) #Generates two random integers between 0 and 35, maps them to characters using the mapping dictionary, and appends them to the string s.\n",
        "s = s+ mapping[digit]\n",
        "digit = random.randint(0,35)\n",
        "s = s + mapping[digit]\n",
        "\n",
        "for i in range(0,8):\n",
        "   num = random.randint(0,1)\n",
        "   if num == 1:\n",
        "     digit = random.randint(0,35)\n",
        "     s = s + mapping[digit]\n",
        "   else: # if num is 0 loop is break\n",
        "    break\n",
        "s\n"
      ],
      "metadata": {
        "id": "nmIA8gjWc1JJ",
        "outputId": "cf71fc81-50c0-4a7b-853f-c7742e266afd",
        "colab": {
          "base_uri": "https://localhost:8080/",
          "height": 36
        }
      },
      "execution_count": null,
      "outputs": [
        {
          "output_type": "execute_result",
          "data": {
            "text/plain": [
              "'UD'"
            ],
            "application/vnd.google.colaboratory.intrinsic+json": {
              "type": "string"
            }
          },
          "metadata": {},
          "execution_count": 13
        }
      ]
    },
    {
      "cell_type": "code",
      "source": [
        "import random # generating random number using random module\n",
        "\n",
        "import matplotlib.pyplot as plt"
      ],
      "metadata": {
        "id": "KPvLTOPwxlQ1"
      },
      "execution_count": null,
      "outputs": []
    },
    {
      "cell_type": "code",
      "source": [
        "mapping_dict = dict(zip(range(0,10),range(0,10))) #Creates an iterable of integers from 0 to 9 and conver into dictionary"
      ],
      "metadata": {
        "id": "bKGCBiUfs6eR"
      },
      "execution_count": null,
      "outputs": []
    },
    {
      "cell_type": "code",
      "source": [
        "for k in mapping_dict.keys():\n",
        "\n",
        "  mapping_dict[k] = str(mapping_dict[k]) #Converts each value corresponding to the key k into a string using the str() function and updates the value in the dictionary."
      ],
      "metadata": {
        "id": "6pr7QyUps-4j"
      },
      "execution_count": null,
      "outputs": []
    },
    {
      "cell_type": "code",
      "source": [
        "for i in range(0,26):\n",
        "\n",
        "  mapping_dict[10+i] = chr(65+i)#The key is calculated as 10 + i, and the corresponding value is the ASCII character represented by chr(65 + i)"
      ],
      "metadata": {
        "id": "MwGBIzZ7tJQI"
      },
      "execution_count": null,
      "outputs": []
    },
    {
      "cell_type": "code",
      "source": [
        "sample_size = 5000000\n",
        "\n",
        "random_number = list()# intialize the empty list to store the generated random strings.\n",
        "\n",
        "for i in range(0,sample_size):\n",
        "\n",
        "  blank_str = str() #Creates an empty string for each iteration.\n",
        "\n",
        "  random_digit = random.randint(0,35)\n",
        "\n",
        "  blank_str = blank_str + mapping_dict[random_digit]\n",
        "\n",
        " #Append Two Random Characters to the String\n",
        "\n",
        "  random_digit = random.randint(0,35)\n",
        "\n",
        "  blank_str = blank_str + mapping_dict[random_digit]\n",
        "\n",
        "  for i in range(0,8):#Iterates up to 8 times to potentially add more characters based on coin tosses.\n",
        "\n",
        "    coin_toss = random.randint(0,1)\n",
        "\n",
        "    if coin_toss == 1:\n",
        "\n",
        "      random_digit = random.randint(0,35)\n",
        "\n",
        "      blank_str = blank_str + mapping_dict[random_digit]\n",
        "\n",
        "    else:  #if the coin toss is 1, another random character is added to the string. If it's 0, the loop breaks\n",
        "\n",
        "      break\n",
        "  random_number.append(blank_str) # append the generating string to list"
      ],
      "metadata": {
        "id": "b8ikdtGbtQSc"
      },
      "execution_count": null,
      "outputs": []
    },
    {
      "cell_type": "code",
      "source": [
        "reverse_mapping_dict = dict()\n",
        "for k in mapping_dict.keys():\n",
        "  reverse_mapping_dict[mapping_dict[k]] = k #the reverse_mapping_dict dictionary will have keys and values swapped from the original mapping_dict"
      ],
      "metadata": {
        "id": "zXfmCP65dxa4"
      },
      "execution_count": null,
      "outputs": []
    },
    {
      "cell_type": "code",
      "source": [
        "base_frequency = dict() # create an empty dictionary\n",
        "\n",
        "for blank_str in random_number: # Iterates through each randomly generated string in random_number.\n",
        "\n",
        "    highest_digit = max(blank_str)#: Finds the highest digit in the current random number string.\n",
        "\n",
        "    highest_base = reverse_mapping_dict[highest_digit] + 1# Converts the highest digit back to its corresponding integer value using reverse_mapping_dict and calculates the corresponding base (incremented by 1).\n",
        "\n",
        "\n",
        "    if highest_base in base_frequency.keys():\n",
        "\n",
        "        base_frequency[highest_base] += (1/sample_size)#increments its frequency by (1 / sample_size).\n",
        "\n",
        "    else:\n",
        "\n",
        "        base_frequency[highest_base] = (1/sample_size)#If the highest base is not in the dictionary, initializes its frequency as (1 / sample_size)"
      ],
      "metadata": {
        "id": "OJ4LGnifnmzh"
      },
      "execution_count": null,
      "outputs": []
    },
    {
      "cell_type": "code",
      "source": [
        "plt.bar(x=base_frequency.keys(),height=base_frequency.values())\n",
        "# create a bar plot of the frequencies stored in the base_frequency dictionary using matplotlib\n"
      ],
      "metadata": {
        "id": "dEl2bv9EpXOv"
      },
      "execution_count": null,
      "outputs": []
    }
  ]
}